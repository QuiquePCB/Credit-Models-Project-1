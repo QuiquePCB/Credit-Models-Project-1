{
 "cells": [
  {
   "cell_type": "code",
   "execution_count": 2,
   "id": "5f5607f4",
   "metadata": {},
   "outputs": [
    {
     "name": "stdout",
     "output_type": "stream",
     "text": [
      "Process completed. Check the 'updated_file.xlsx' file.\n"
     ]
    }
   ],
   "source": [
    "import pandas as pd\n",
    "\n",
    "df = pd.read_excel(\"data_train_cleaned_correlation.xlsx\", sheet_name=\"Data\")  \n",
    "\n",
    "def fill_credit_mix(row):\n",
    "    if row[\"Credit_Mix\"] == \"_\":  \n",
    "        if row[\"Num_of_Loan\"] <= 2:\n",
    "            return \"Good\"\n",
    "        elif row[\"Num_of_Loan\"] <= 4:\n",
    "            return \"Standard\"\n",
    "        else:\n",
    "            return \"Bad\"\n",
    "    else:\n",
    "        return row[\"Credit_Mix\"]  \n",
    "\n",
    "df[\"Credit_Mix\"] = df.apply(fill_credit_mix, axis=1)\n",
    "\n",
    "df.to_excel(\"updated_file.xlsx\", sheet_name=\"Data\", index=False)\n",
    "\n",
    "print(\"Process completed. Check the 'updated_file.xlsx' file.\")\n"
   ]
  },
  {
   "cell_type": "code",
   "execution_count": null,
   "id": "5b347187",
   "metadata": {},
   "outputs": [],
   "source": []
  }
 ],
 "metadata": {
  "kernelspec": {
   "display_name": "Python 3 (ipykernel)",
   "language": "python",
   "name": "python3"
  },
  "language_info": {
   "codemirror_mode": {
    "name": "ipython",
    "version": 3
   },
   "file_extension": ".py",
   "mimetype": "text/x-python",
   "name": "python",
   "nbconvert_exporter": "python",
   "pygments_lexer": "ipython3",
   "version": "3.9.12"
  }
 },
 "nbformat": 4,
 "nbformat_minor": 5
}
