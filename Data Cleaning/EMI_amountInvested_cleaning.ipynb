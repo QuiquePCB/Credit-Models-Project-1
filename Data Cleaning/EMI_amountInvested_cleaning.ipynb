{
 "cells": [
  {
   "cell_type": "markdown",
   "id": "7006ee99",
   "metadata": {},
   "source": [
    "## For the Total_EMI"
   ]
  },
  {
   "cell_type": "code",
   "execution_count": 3,
   "id": "17770f38",
   "metadata": {},
   "outputs": [],
   "source": [
    "import pandas as pd\n",
    "\n",
    "# Input file path\n",
    "file_path = \"emi_clean.xlsx\"\n",
    "\n",
    "# Load the Excel file\n",
    "xls = pd.ExcelFile(file_path)\n",
    "df = pd.read_excel(xls)\n",
    "\n",
    "# Rename columns \n",
    "df.columns = [\"ID\", \"Value\"]\n",
    "\n",
    "# Convert to dictionary applying the logic to replace 0 values\n",
    "dictionary = {}\n",
    "previous_value = None\n",
    "previous_id = None\n",
    "\n",
    "for index, row in df.iterrows():\n",
    "    current_id = row[\"ID\"]\n",
    "    current_value = row[\"Value\"]\n",
    "\n",
    "    if current_value == 0 and previous_value is not None and previous_id is not None:\n",
    "        current_value = (previous_value / previous_id) * current_id\n",
    "\n",
    "    dictionary[current_id] = current_value\n",
    "\n",
    "    # Update previous values\n",
    "    previous_value = current_value\n",
    "    previous_id = current_id\n",
    "\n",
    "# Replace values in the original table\n",
    "for index, row in df.iterrows():\n",
    "    current_id = row[\"ID\"]\n",
    "    if row[\"Value\"] == 0 or row[\"Value\"] > 10000:\n",
    "        df.at[index, \"Value\"] = dictionary.get(current_id, row[\"Value\"])\n",
    "\n",
    "# Convert the dictionary into a DataFrame to export it to Excel\n",
    "df_export = pd.DataFrame(dictionary.items(), columns=[\"ID\", \"Value\"])\n",
    "\n",
    "# Save\n",
    "output_path = \"total_emi_cleaned.xlsx\"\n",
    "df.to_excel(output_path, index=False)"
   ]
  },
  {
   "cell_type": "markdown",
   "id": "3a02c1da",
   "metadata": {},
   "source": [
    "## For the Amount Invested"
   ]
  },
  {
   "cell_type": "code",
   "execution_count": 4,
   "id": "b6fe6f6e",
   "metadata": {},
   "outputs": [],
   "source": [
    "import pandas as pd\n",
    "\n",
    "def adjust_amount_invested_column(file):\n",
    "    # Read the Excel file into a DataFrame\n",
    "    df = pd.read_excel(file)\n",
    "    \n",
    "    # Ensure the columns are numeric\n",
    "    df = df.apply(pd.to_numeric, errors='coerce')\n",
    "    \n",
    "    # Adjust values in column B if they exceed 100% of the monthly income, capping it at 20%\n",
    "    df.iloc[:, 1] = df.iloc[:, 1].where(df.iloc[:, 1] <= df.iloc[:, 0], 0.2 * df.iloc[:, 0])\n",
    "    \n",
    "    # Save the changes to a new file\n",
    "    df.to_excel('invested_data_clean.xlsx', index=False)\n",
    "    \n",
    "\n",
    "adjust_amount_invested_column('invested_data.xlsx')\n"
   ]
  }
 ],
 "metadata": {
  "kernelspec": {
   "display_name": "Python 3 (ipykernel)",
   "language": "python",
   "name": "python3"
  },
  "language_info": {
   "codemirror_mode": {
    "name": "ipython",
    "version": 3
   },
   "file_extension": ".py",
   "mimetype": "text/x-python",
   "name": "python",
   "nbconvert_exporter": "python",
   "pygments_lexer": "ipython3",
   "version": "3.9.12"
  }
 },
 "nbformat": 4,
 "nbformat_minor": 5
}
