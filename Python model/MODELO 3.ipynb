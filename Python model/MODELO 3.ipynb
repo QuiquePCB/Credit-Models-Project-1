{
 "cells": [
  {
   "cell_type": "markdown",
   "metadata": {},
   "source": [
    "MODELO DE CRÉDITO PARA PRÉSTAMOS PERSONALES"
   ]
  },
  {
   "cell_type": "code",
   "execution_count": 6,
   "metadata": {
    "scrolled": false
   },
   "outputs": [],
   "source": [
    "import pandas as pd\n",
    "from sklearn.model_selection import train_test_split\n",
    "from sklearn.ensemble import RandomForestClassifier\n",
    "from sklearn.preprocessing import StandardScaler\n",
    "from catboost import CatBoostClassifier, Pool\n",
    "from sklearn.model_selection import train_test_split\n",
    "from sklearn.metrics import accuracy_score\n",
    "from xgboost import XGBClassifier, XGBRegressor"
   ]
  },
  {
   "cell_type": "code",
   "execution_count": 7,
   "metadata": {},
   "outputs": [],
   "source": [
    "\"\"\"\n",
    "Función para cargar la información para entrenar y validar el modelo. \n",
    "La información no será proporcionada por el usuario final, sino que ya estará establecida. Se utilizará el archivo \n",
    "con los datos limpios y ordenados que se realizó para el modelo tradicional. \n",
    "\"\"\"\n",
    "def get_data(data):\n",
    "    return pd.read_excel(data)"
   ]
  },
  {
   "cell_type": "code",
   "execution_count": 8,
   "metadata": {},
   "outputs": [],
   "source": [
    "\"\"\"\n",
    "Función para separar la data en train y test. \n",
    "Se utilizará el 70% de los datos totales para entrenar el modelo y el 30% restante para verificar su funcionamiento. \n",
    "La división de los datos se realizará de manera aleatoria, establecionedo una semilla para poder replicar los \n",
    "resultados obtenidos. \n",
    "\"\"\"\n",
    "def split_train_test(data, target_column, random_state=100):\n",
    "    data_train, data_test = train_test_split(\n",
    "        data,\n",
    "        test_size=0.3,\n",
    "        random_state=random_state,\n",
    "        stratify=data[target_column]  \n",
    "    )\n",
    "    return data_train.reset_index(drop=True), data_test.reset_index(drop=True)"
   ]
  },
  {
   "cell_type": "code",
   "execution_count": 9,
   "metadata": {},
   "outputs": [],
   "source": [
    "def prepare_variables(data_train, data_test):\n",
    "    X_train = data_train.drop(['Credit_Score'], axis=1)\n",
    "    y_train = data_train['Credit_Score']\n",
    "\n",
    "    X_test = data_test.drop(['Credit_Score'], axis=1)\n",
    "    y_test = data_test['Credit_Score']\n",
    "\n",
    "    scaler = StandardScaler()\n",
    "    X_train_scaled = scaler.fit_transform(X_train)\n",
    "    X_test_scaled = scaler.transform(X_test)\n",
    "    \n",
    "    return X_train_scaled,X_test_scaled, y_train, y_test"
   ]
  },
  {
   "cell_type": "code",
   "execution_count": 10,
   "metadata": {},
   "outputs": [],
   "source": [
    "\"\"\"\n",
    "Función para crear un pirmer modelo con el método de Random Forest. \n",
    "\n",
    "\"\"\"\n",
    "\n",
    "#RF FALTA DOCUMENTACION Y CAMBIAR COLUMNA\n",
    "def random_forest(X_train_scaled,X_test_scaled, y_train):\n",
    "    rf_model = RandomForestClassifier(random_state=100)\n",
    "    rf_model.fit(X_train_scaled, y_train)\n",
    "    rf_probs = rf_model.predict_proba(X_test_scaled)[:, 1]\n",
    "    rf_preds = rf_model.predict(X_test_scaled)\n",
    "    \n",
    "    return rf_probs,rf_preds"
   ]
  },
  {
   "cell_type": "code",
   "execution_count": 11,
   "metadata": {},
   "outputs": [],
   "source": [
    "def logistic_regression(X_train_scaled, y_train):\n",
    "    lr_model = LogisticRegression(max_iter=1000, random_state=100)\n",
    "    lr_model.fit(X_train_scaled, y_train)\n",
    "    lr_probs = lr_model.predict_proba(X_test_scaled)[:, 1]\n",
    "    lr_preds = lr_model.predict(X_test_scaled)\n",
    "    \n",
    "    return lr_probs,lr_preds"
   ]
  },
  {
   "cell_type": "code",
   "execution_count": 12,
   "metadata": {},
   "outputs": [],
   "source": [
    "# Crear el modelo CatBoost\n",
    "def catboost_model(X_train_scaled, y_train_scaled, cat_features=None, iterations=1000, learning_rate=0.03, depth=6):\n",
    "    model = CatBoostClassifier(\n",
    "        iterations=iterations,\n",
    "        learning_rate=learning_rate,\n",
    "        depth=depth,\n",
    "        cat_features=cat_features,\n",
    "        verbose=0 \n",
    "    )\n",
    "    \n",
    "    return model.fit(X_train_scaled, y_train_scaled)"
   ]
  },
  {
   "cell_type": "code",
   "execution_count": 13,
   "metadata": {},
   "outputs": [],
   "source": [
    "def xgboost_model(X_train_scaled, y_train_scaled, task_type='classification', **params):\n",
    "   \n",
    "    if task_type == 'classification':\n",
    "        model = XGBClassifier(**params)\n",
    "    else:\n",
    "        model = XGBRegressor(**params)\n",
    "    \n",
    "    return model.fit(X_train_scaled, y_train_scaled)"
   ]
  },
  {
   "cell_type": "code",
   "execution_count": null,
   "metadata": {},
   "outputs": [],
   "source": [
    "def get_roc_metrics(y_test, probs)\n",
    "    fpr, tpr, _ = roc_curve(y_test, probs)\n",
    "    auc = roc_auc_score(y_test, probs)\n",
    "    return fpr, tpr, auc"
   ]
  },
  {
   "cell_type": "code",
   "execution_count": 14,
   "metadata": {},
   "outputs": [
    {
     "data": {
      "text/plain": [
       "'\\nFunción para cargar la info del modelo\\nSeparar en trian y test \\nFunción para entrenador el modelo con RF\\nFunción para entrenador el modelo con Regresion \\nFunción para entrenador el modelo con ---\\nfUNCION PARA COMBINARLOS\\nFunción para evaluar los modelos \\nFuincion Auroc\\nFuncion matriz\\nFunción para que el usuario inserte el cliente a evaluar\\n¿Qué hacer en caso de que no se tenga un dato?\\n'"
      ]
     },
     "execution_count": 14,
     "metadata": {},
     "output_type": "execute_result"
    }
   ],
   "source": [
    "\"\"\"\n",
    "Función para cargar la info del modelo\n",
    "Separar en trian y test \n",
    "Función para entrenador el modelo con RF\n",
    "Función para entrenador el modelo con Regresion \n",
    "Función para entrenador el modelo con ---\n",
    "fUNCION PARA COMBINARLOS\n",
    "Función para evaluar los modelos \n",
    "Fuincion Auroc\n",
    "Funcion matriz\n",
    "Función para que el usuario inserte el cliente a evaluar\n",
    "¿Qué hacer en caso de que no se tenga un dato?\n",
    "\"\"\""
   ]
  },
  {
   "cell_type": "code",
   "execution_count": 15,
   "metadata": {},
   "outputs": [],
   "source": [
    "\"\"\"\n",
    "Función para cargar y leer los datos con la información crediticia que se utilizará para entrenar y validar el modelo.\n",
    "\n",
    "El archivo que contenga estos datos debe de ser presentado en formato csv, de lo contrario, un mensaje de error hará saber\n",
    "al usuario que el archivo no cumple con el formato solicitado.\n",
    "El archivo debe de contener las siguientes 12 columnas en el orden que a continuación se presenta, cuidando\n",
    "que estas correspondan a las primeras 12 columnas del documento: Interest_Rate, Delay_from_due_date,\n",
    "Payment_of_Min_Amount, Outstanding_Debt, Num_Credit_Inquiries, Num_of_Delayed_Payment, Num_of_Loan, \n",
    "Credit_Utilization_Ratio, Num_Bank_Accounts, Num_Credit_Card, Credit_Mix, Credit_History_Age. \n",
    "\n",
    "Clasifiación para las variables que no son numéricas:\n",
    "•Payment_of_Min_Amount: Yes, No, NM (Not Mentioned)\n",
    "•Credit_Mix: Good, Standard, Poor\n",
    "\n",
    "También es importante mencionar que el Interest_Rate se debe indicar como números enteros, no como porcentaje.\n",
    "Para Outstanding_Debt, Credit_Utilization_Ratio y Credit_History_Age se pueden usar puntos decimales y para las \n",
    "restantes son números enteros.\n",
    "El Delay_from_due_date debe indicarse en número de días.\n",
    "\n",
    "En caso de tener valores faltantes se pondra cero para el caso de las columnas numéricas y NA para las categóricas. \n",
    "\"\"\"\n",
    "def insert_credit_info(info):\n",
    "    if not info.lower().endswith('.csv'):\n",
    "        raise ValueError(\"El formato del archivo proporcionado no concuerda con el solicitado.\")\n",
    "    \n",
    "    return pd.read_csv(info)\n",
    "\n",
    "#Evaluar el modelo en lso datos porporcionado"
   ]
  },
  {
   "cell_type": "code",
   "execution_count": 16,
   "metadata": {},
   "outputs": [],
   "source": [
    "data = \"data_train_cleaned_final.csv\""
   ]
  },
  {
   "cell_type": "code",
   "execution_count": 17,
   "metadata": {},
   "outputs": [
    {
     "ename": "ValueError",
     "evalue": "Excel file format cannot be determined, you must specify an engine manually.",
     "output_type": "error",
     "traceback": [
      "\u001b[1;31m---------------------------------------------------------------------------\u001b[0m",
      "\u001b[1;31mValueError\u001b[0m                                Traceback (most recent call last)",
      "Input \u001b[1;32mIn [17]\u001b[0m, in \u001b[0;36m<cell line: 1>\u001b[1;34m()\u001b[0m\n\u001b[1;32m----> 1\u001b[0m \u001b[43mget_data\u001b[49m\u001b[43m(\u001b[49m\u001b[43mdata\u001b[49m\u001b[43m)\u001b[49m\n",
      "Input \u001b[1;32mIn [7]\u001b[0m, in \u001b[0;36mget_data\u001b[1;34m(data)\u001b[0m\n\u001b[0;32m      6\u001b[0m \u001b[38;5;28;01mdef\u001b[39;00m \u001b[38;5;21mget_data\u001b[39m(data):\n\u001b[1;32m----> 7\u001b[0m     \u001b[38;5;28;01mreturn\u001b[39;00m \u001b[43mpd\u001b[49m\u001b[38;5;241;43m.\u001b[39;49m\u001b[43mread_excel\u001b[49m\u001b[43m(\u001b[49m\u001b[43mdata\u001b[49m\u001b[43m)\u001b[49m\n",
      "File \u001b[1;32m~\\anaconda\\lib\\site-packages\\pandas\\util\\_decorators.py:311\u001b[0m, in \u001b[0;36mdeprecate_nonkeyword_arguments.<locals>.decorate.<locals>.wrapper\u001b[1;34m(*args, **kwargs)\u001b[0m\n\u001b[0;32m    305\u001b[0m \u001b[38;5;28;01mif\u001b[39;00m \u001b[38;5;28mlen\u001b[39m(args) \u001b[38;5;241m>\u001b[39m num_allow_args:\n\u001b[0;32m    306\u001b[0m     warnings\u001b[38;5;241m.\u001b[39mwarn(\n\u001b[0;32m    307\u001b[0m         msg\u001b[38;5;241m.\u001b[39mformat(arguments\u001b[38;5;241m=\u001b[39marguments),\n\u001b[0;32m    308\u001b[0m         \u001b[38;5;167;01mFutureWarning\u001b[39;00m,\n\u001b[0;32m    309\u001b[0m         stacklevel\u001b[38;5;241m=\u001b[39mstacklevel,\n\u001b[0;32m    310\u001b[0m     )\n\u001b[1;32m--> 311\u001b[0m \u001b[38;5;28;01mreturn\u001b[39;00m func(\u001b[38;5;241m*\u001b[39margs, \u001b[38;5;241m*\u001b[39m\u001b[38;5;241m*\u001b[39mkwargs)\n",
      "File \u001b[1;32m~\\anaconda\\lib\\site-packages\\pandas\\io\\excel\\_base.py:457\u001b[0m, in \u001b[0;36mread_excel\u001b[1;34m(io, sheet_name, header, names, index_col, usecols, squeeze, dtype, engine, converters, true_values, false_values, skiprows, nrows, na_values, keep_default_na, na_filter, verbose, parse_dates, date_parser, thousands, decimal, comment, skipfooter, convert_float, mangle_dupe_cols, storage_options)\u001b[0m\n\u001b[0;32m    455\u001b[0m \u001b[38;5;28;01mif\u001b[39;00m \u001b[38;5;129;01mnot\u001b[39;00m \u001b[38;5;28misinstance\u001b[39m(io, ExcelFile):\n\u001b[0;32m    456\u001b[0m     should_close \u001b[38;5;241m=\u001b[39m \u001b[38;5;28;01mTrue\u001b[39;00m\n\u001b[1;32m--> 457\u001b[0m     io \u001b[38;5;241m=\u001b[39m \u001b[43mExcelFile\u001b[49m\u001b[43m(\u001b[49m\u001b[43mio\u001b[49m\u001b[43m,\u001b[49m\u001b[43m \u001b[49m\u001b[43mstorage_options\u001b[49m\u001b[38;5;241;43m=\u001b[39;49m\u001b[43mstorage_options\u001b[49m\u001b[43m,\u001b[49m\u001b[43m \u001b[49m\u001b[43mengine\u001b[49m\u001b[38;5;241;43m=\u001b[39;49m\u001b[43mengine\u001b[49m\u001b[43m)\u001b[49m\n\u001b[0;32m    458\u001b[0m \u001b[38;5;28;01melif\u001b[39;00m engine \u001b[38;5;129;01mand\u001b[39;00m engine \u001b[38;5;241m!=\u001b[39m io\u001b[38;5;241m.\u001b[39mengine:\n\u001b[0;32m    459\u001b[0m     \u001b[38;5;28;01mraise\u001b[39;00m \u001b[38;5;167;01mValueError\u001b[39;00m(\n\u001b[0;32m    460\u001b[0m         \u001b[38;5;124m\"\u001b[39m\u001b[38;5;124mEngine should not be specified when passing \u001b[39m\u001b[38;5;124m\"\u001b[39m\n\u001b[0;32m    461\u001b[0m         \u001b[38;5;124m\"\u001b[39m\u001b[38;5;124man ExcelFile - ExcelFile already has the engine set\u001b[39m\u001b[38;5;124m\"\u001b[39m\n\u001b[0;32m    462\u001b[0m     )\n",
      "File \u001b[1;32m~\\anaconda\\lib\\site-packages\\pandas\\io\\excel\\_base.py:1380\u001b[0m, in \u001b[0;36mExcelFile.__init__\u001b[1;34m(self, path_or_buffer, engine, storage_options)\u001b[0m\n\u001b[0;32m   1376\u001b[0m     ext \u001b[38;5;241m=\u001b[39m inspect_excel_format(\n\u001b[0;32m   1377\u001b[0m         content_or_path\u001b[38;5;241m=\u001b[39mpath_or_buffer, storage_options\u001b[38;5;241m=\u001b[39mstorage_options\n\u001b[0;32m   1378\u001b[0m     )\n\u001b[0;32m   1379\u001b[0m     \u001b[38;5;28;01mif\u001b[39;00m ext \u001b[38;5;129;01mis\u001b[39;00m \u001b[38;5;28;01mNone\u001b[39;00m:\n\u001b[1;32m-> 1380\u001b[0m         \u001b[38;5;28;01mraise\u001b[39;00m \u001b[38;5;167;01mValueError\u001b[39;00m(\n\u001b[0;32m   1381\u001b[0m             \u001b[38;5;124m\"\u001b[39m\u001b[38;5;124mExcel file format cannot be determined, you must specify \u001b[39m\u001b[38;5;124m\"\u001b[39m\n\u001b[0;32m   1382\u001b[0m             \u001b[38;5;124m\"\u001b[39m\u001b[38;5;124man engine manually.\u001b[39m\u001b[38;5;124m\"\u001b[39m\n\u001b[0;32m   1383\u001b[0m         )\n\u001b[0;32m   1385\u001b[0m engine \u001b[38;5;241m=\u001b[39m config\u001b[38;5;241m.\u001b[39mget_option(\u001b[38;5;124mf\u001b[39m\u001b[38;5;124m\"\u001b[39m\u001b[38;5;124mio.excel.\u001b[39m\u001b[38;5;132;01m{\u001b[39;00mext\u001b[38;5;132;01m}\u001b[39;00m\u001b[38;5;124m.reader\u001b[39m\u001b[38;5;124m\"\u001b[39m, silent\u001b[38;5;241m=\u001b[39m\u001b[38;5;28;01mTrue\u001b[39;00m)\n\u001b[0;32m   1386\u001b[0m \u001b[38;5;28;01mif\u001b[39;00m engine \u001b[38;5;241m==\u001b[39m \u001b[38;5;124m\"\u001b[39m\u001b[38;5;124mauto\u001b[39m\u001b[38;5;124m\"\u001b[39m:\n",
      "\u001b[1;31mValueError\u001b[0m: Excel file format cannot be determined, you must specify an engine manually."
     ]
    }
   ],
   "source": [
    "get_data(data)"
   ]
  },
  {
   "cell_type": "code",
   "execution_count": null,
   "metadata": {},
   "outputs": [],
   "source": []
  }
 ],
 "metadata": {
  "kernelspec": {
   "display_name": "Python 3 (ipykernel)",
   "language": "python",
   "name": "python3"
  },
  "language_info": {
   "codemirror_mode": {
    "name": "ipython",
    "version": 3
   },
   "file_extension": ".py",
   "mimetype": "text/x-python",
   "name": "python",
   "nbconvert_exporter": "python",
   "pygments_lexer": "ipython3",
   "version": "3.9.12"
  }
 },
 "nbformat": 4,
 "nbformat_minor": 2
}
